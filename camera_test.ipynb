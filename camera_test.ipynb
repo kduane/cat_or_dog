{
 "cells": [
  {
   "cell_type": "code",
   "execution_count": 1,
   "metadata": {},
   "outputs": [],
   "source": [
    "import numpy as np\n",
    "import tensorflow as tf\n",
    "import cv2\n",
    "from tensorflow import keras"
   ]
  },
  {
   "cell_type": "code",
   "execution_count": null,
   "metadata": {},
   "outputs": [],
   "source": [
    "# load model\n",
    "model = keras.models.load_model('./model')\n",
    "\n",
    "#labeling data: \n",
    "labels_dict = { 0 : 'dog', 1 : 'cat'}\n",
    "color_dict = {0 : (0, 0, 255), 1 : (0, 255, 0)}\n",
    "size = 4\n",
    "webcam = cv2.VideoCapture(0)\n",
    "\n",
    "# load xml file\n",
    "classifier = cv2.CascadeClassifier(cv2.data.haarcascades + \"haarcascade_frontalcatface.xml\") #assuming cat face cascade will show dog faces, too\n",
    "\n",
    "while True:\n",
    "    (rval, im) = webcam.read()\n",
    "    im = cv2.flip(im, 1, 1) #to mirror the image\n",
    "\n",
    "    #resize for speed\n",
    "    mini = cv2.resize(im, (im.shape[1] // size, im.shape[0] // size))\n",
    "\n",
    "    #detect Multiscale\n",
    "    faces = classifier.detectMultiScale(mini)\n",
    "\n",
    "    #draw rectangle around cat face\n",
    "    for f in faces:\n",
    "        (x,y,w,h) = [v*size for v in f] #scale\n",
    "        #save the rectangles\n",
    "        face_img = im[y:y+h, x:x+w]\n",
    "        resized = cv2.resize(face_img, (160, 160))\n",
    "        normalized = resized/255.0\n",
    "        reshaped = np.reshape(normalized, (1,150,150,3))\n",
    "        reshaped = np.vstack([reshaped])\n",
    "        result = model.predict(reshaped)\n",
    "        # print(result)\n",
    "\n",
    "        label = argmax(result, axis = 1)[0]\n",
    "\n",
    "        cv2.rectange(im, (x, y), (x+w, y+h), color_dict[label], 2)\n",
    "        cv2.rectangle(im, (x, y-40), (x+w, y), color_dict[label], -1)\n",
    "        cv2.putText(im, labels_dict[label], (x, y-10), cv2.FONT_HERSHEY_SIMPLEX, 0.8, (255, 255, 255), 2)\n",
    "    \n",
    "    #display the image\n",
    "    cv2.imshow('LIVE', im)\n",
    "    key = cv2.waitKey(10)\n",
    "\n",
    "    #break out of loop on pressing escape key\n",
    "    if key == 27:\n",
    "        break\n",
    "\n",
    "#stop video\n",
    "webcam.release()\n",
    "\n",
    "#close all windows\n",
    "cv2.destroyAllWindows()"
   ]
  },
  {
   "cell_type": "code",
   "execution_count": null,
   "metadata": {},
   "outputs": [],
   "source": []
  }
 ],
 "metadata": {
  "kernelspec": {
   "display_name": "Python 3.7.7 64-bit (conda)",
   "language": "python",
   "name": "python37764bitconda77dc9d652bc147c6a9d0ea8af6b5ba0e"
  },
  "language_info": {
   "codemirror_mode": {
    "name": "ipython",
    "version": 3
   },
   "file_extension": ".py",
   "mimetype": "text/x-python",
   "name": "python",
   "nbconvert_exporter": "python",
   "pygments_lexer": "ipython3",
   "version": "3.7.7"
  }
 },
 "nbformat": 4,
 "nbformat_minor": 4
}
