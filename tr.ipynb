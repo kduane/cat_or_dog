{
 "cells": [
  {
   "cell_type": "code",
   "execution_count": 20,
   "metadata": {},
   "outputs": [],
   "source": [
    "import os, glob, pickle\n",
    "import pandas as pd\n",
    "import numpy as np\n",
    "import seaborn as sns\n",
    "import matplotlib.pyplot as plt\n",
    "import cv2\n",
    "\n",
    "from tensorflow.keras.models import Sequential, load_model\n",
    "from tensorflow.keras.layers import Dense, Dropout, Flatten, Conv2D, MaxPooling2D\n",
    "from tensorflow.keras import utils\n",
    "from tensorflow.keras.callbacks import EarlyStopping, Callback\n",
    "\n",
    "\n",
    "from sklearn.model_selection import train_test_split\n",
    "from sklearn.metrics import accuracy_score, plot_confusion_matrix, confusion_matrix\n",
    "from sklearn.preprocessing import LabelEncoder\n",
    "\n",
    "from scripts import common_quick_plots as qp\n",
    "\n",
    "np.random.seed(9)"
   ]
  },
  {
   "cell_type": "markdown",
   "metadata": {},
   "source": [
    "### Phase 1 - Problem Definition  \n",
    "\n",
    "#### 1.1 Broad Goals  \n",
    "\n",
    "I have multiple small animals underfoot while I'm coding, cats and dogs.  While my dog is canine shaped and behaved, she is a small breed and ruff-ly the same size or smaller than my cat.  \n",
    "\n",
    "#### 1.2 Data Source  \n",
    "\n",
    "This project combines two open source datasets to create a single sample:  \n",
    "    1. the [Stanford Dogs Dataset](http://vision.stanford.edu/aditya86/ImageNetDogs/) which includes a limited number of samples for each category and over 120 separate dog breeds.  \n",
    "    2. the [Kaggle Cat Breeds Dataset](https://www.kaggle.com/ma7555/cat-breeds-dataset) which includes a limited number of samples for 67 different cat breeds\n",
    "\n",
    "#### 1.3 Problem Statement \n",
    "\n",
    "While identifying which pet is at my feet is an easy task for me as a human, it becomes a larger challenge for a computer. This project aims to build a binary image classification model to check whether a pet is a cat or a dog from a photo, with a stretch goal of applying real-time testing to a webcam."
   ]
  },
  {
   "cell_type": "markdown",
   "metadata": {},
   "source": [
    "### Phase 2 - Data Gathering  \n",
    "####    2.1 Loading Files"
   ]
  },
  {
   "cell_type": "code",
   "execution_count": 2,
   "metadata": {},
   "outputs": [],
   "source": [
    "imgs = []\n",
    "\n",
    "def load_resize(file, size = (160, 160)):\n",
    "    # load file\n",
    "    try:\n",
    "        img_arr = cv2.imread(file)\n",
    "        #convert to color array\n",
    "        img_rgb = cv2.cvtColor(img_arr, cv2.COLOR_BGR2RGB)\n",
    "        #reshape to uniform size 160x160x3\n",
    "        new_array = cv2.resize(img_rgb, size)\n",
    "        return new_array\n",
    "    except:\n",
    "        print(f\"Invalid Path\")"
   ]
  },
  {
   "cell_type": "code",
   "execution_count": 3,
   "metadata": {},
   "outputs": [
    {
     "name": "stdout",
     "output_type": "stream",
     "text": [
      "Invalid Path\n",
      "Invalid Path\n"
     ]
    }
   ],
   "source": [
    "for path in glob.glob('./data/*'):\n",
    "    species = os.path.basename(path)\n",
    "    for breed in glob.glob(path +'/*'):\n",
    "        # pull a simplified name\n",
    "        if species == 'cat':\n",
    "            breed_name = breed.split('/')[-1]\n",
    "            for file in glob.glob(breed + '/*.jpg')[:350]: #limit to 350 per cat breed\n",
    "                file_name = os.path.basename(file)\n",
    "                # load file\n",
    "                image = load_resize(file)\n",
    "                imgs.append({'species' : species, \n",
    "                             'breed': breed_name, \n",
    "                             'image' : image\n",
    "                            })\n",
    "        else:\n",
    "            breed_name = breed.split('-')[-1]\n",
    "            for file in glob.glob(breed + '/*.jpg')[:150]: #limit to 150 per dog breed\n",
    "                file_name = os.path.basename(file)\n",
    "                # load file\n",
    "                image = load_resize(file)\n",
    "                imgs.append({'species' : species, \n",
    "                             'breed': breed_name, \n",
    "                             'image' : image\n",
    "                            })\n",
    "\n",
    "                \n",
    "#convert list to dataframe\n",
    "df = pd.DataFrame.from_dict(imgs)"
   ]
  },
  {
   "cell_type": "code",
   "execution_count": 4,
   "metadata": {},
   "outputs": [
    {
     "data": {
      "text/html": [
       "<div>\n",
       "<style scoped>\n",
       "    .dataframe tbody tr th:only-of-type {\n",
       "        vertical-align: middle;\n",
       "    }\n",
       "\n",
       "    .dataframe tbody tr th {\n",
       "        vertical-align: top;\n",
       "    }\n",
       "\n",
       "    .dataframe thead th {\n",
       "        text-align: right;\n",
       "    }\n",
       "</style>\n",
       "<table border=\"1\" class=\"dataframe\">\n",
       "  <thead>\n",
       "    <tr style=\"text-align: right;\">\n",
       "      <th></th>\n",
       "      <th>species</th>\n",
       "      <th>breed</th>\n",
       "      <th>image</th>\n",
       "    </tr>\n",
       "  </thead>\n",
       "  <tbody>\n",
       "    <tr>\n",
       "      <th>0</th>\n",
       "      <td>cat</td>\n",
       "      <td>Chausie</td>\n",
       "      <td>[[[205, 206, 210], [206, 207, 211], [212, 213,...</td>\n",
       "    </tr>\n",
       "    <tr>\n",
       "      <th>1</th>\n",
       "      <td>cat</td>\n",
       "      <td>Chausie</td>\n",
       "      <td>[[[46, 62, 75], [45, 61, 76], [45, 58, 74], [4...</td>\n",
       "    </tr>\n",
       "    <tr>\n",
       "      <th>2</th>\n",
       "      <td>cat</td>\n",
       "      <td>Chausie</td>\n",
       "      <td>[[[163, 195, 236], [147, 179, 220], [129, 162,...</td>\n",
       "    </tr>\n",
       "    <tr>\n",
       "      <th>3</th>\n",
       "      <td>cat</td>\n",
       "      <td>Chausie</td>\n",
       "      <td>[[[248, 206, 210], [252, 211, 215], [247, 206,...</td>\n",
       "    </tr>\n",
       "    <tr>\n",
       "      <th>4</th>\n",
       "      <td>cat</td>\n",
       "      <td>Chausie</td>\n",
       "      <td>[[[181, 169, 153], [185, 173, 157], [188, 176,...</td>\n",
       "    </tr>\n",
       "  </tbody>\n",
       "</table>\n",
       "</div>"
      ],
      "text/plain": [
       "  species    breed                                              image\n",
       "0     cat  Chausie  [[[205, 206, 210], [206, 207, 211], [212, 213,...\n",
       "1     cat  Chausie  [[[46, 62, 75], [45, 61, 76], [45, 58, 74], [4...\n",
       "2     cat  Chausie  [[[163, 195, 236], [147, 179, 220], [129, 162,...\n",
       "3     cat  Chausie  [[[248, 206, 210], [252, 211, 215], [247, 206,...\n",
       "4     cat  Chausie  [[[181, 169, 153], [185, 173, 157], [188, 176,..."
      ]
     },
     "execution_count": 4,
     "metadata": {},
     "output_type": "execute_result"
    }
   ],
   "source": [
    "df.head()"
   ]
  },
  {
   "cell_type": "code",
   "execution_count": 5,
   "metadata": {},
   "outputs": [
    {
     "name": "stdout",
     "output_type": "stream",
     "text": [
      "<class 'pandas.core.frame.DataFrame'>\n",
      "RangeIndex: 33104 entries, 0 to 33103\n",
      "Data columns (total 3 columns):\n",
      " #   Column   Non-Null Count  Dtype \n",
      "---  ------   --------------  ----- \n",
      " 0   species  33104 non-null  object\n",
      " 1   breed    33104 non-null  object\n",
      " 2   image    33102 non-null  object\n",
      "dtypes: object(3)\n",
      "memory usage: 776.0+ KB\n"
     ]
    }
   ],
   "source": [
    "df.info()"
   ]
  },
  {
   "cell_type": "markdown",
   "metadata": {},
   "source": [
    "### Phase 3 - Exploratory Data Analysis  \n",
    "\n",
    "#### 3.1 Dataset Shape"
   ]
  },
  {
   "cell_type": "code",
   "execution_count": 6,
   "metadata": {},
   "outputs": [
    {
     "data": {
      "text/plain": [
       "dog    17997\n",
       "cat    15107\n",
       "Name: species, dtype: int64"
      ]
     },
     "execution_count": 6,
     "metadata": {},
     "output_type": "execute_result"
    }
   ],
   "source": [
    "df['species'].value_counts()"
   ]
  },
  {
   "cell_type": "code",
   "execution_count": 7,
   "metadata": {},
   "outputs": [
    {
     "data": {
      "text/plain": [
       "dog    0.54365\n",
       "cat    0.45635\n",
       "Name: species, dtype: float64"
      ]
     },
     "execution_count": 7,
     "metadata": {},
     "output_type": "execute_result"
    }
   ],
   "source": [
    "df['species'].value_counts(normalize = True)"
   ]
  },
  {
   "cell_type": "markdown",
   "metadata": {},
   "source": [
    "#### 3.2 Sample Images"
   ]
  },
  {
   "cell_type": "code",
   "execution_count": 8,
   "metadata": {},
   "outputs": [],
   "source": [
    "sample_images = df['image'].sample(9).copy()"
   ]
  },
  {
   "cell_type": "markdown",
   "metadata": {},
   "source": [
    "#### 3.3 Principal Component Analysis"
   ]
  },
  {
   "cell_type": "markdown",
   "metadata": {},
   "source": [
    "### Phase 4 - Modeling  "
   ]
  },
  {
   "cell_type": "markdown",
   "metadata": {},
   "source": [
    "#### 4.1 Train/Test/Split"
   ]
  },
  {
   "cell_type": "code",
   "execution_count": 9,
   "metadata": {
    "tags": []
   },
   "outputs": [
    {
     "name": "stdout",
     "output_type": "stream",
     "text": [
      "Invalid Path\n",
      "Invalid Path\n"
     ]
    }
   ],
   "source": [
    "X = []\n",
    "y = []\n",
    "for path in glob.glob('./data/*'):\n",
    "    species = os.path.basename(path)\n",
    "    for breed in glob.glob(path +'/*'):\n",
    "        # pull a simplified name\n",
    "        if species == 'cat':\n",
    "            breed_name = breed.split('/')[-1]\n",
    "            for file in glob.glob(breed + '/*.jpg')[:350]: #limit to 350 per cat breed\n",
    "                file_name = os.path.basename(file)\n",
    "                # load file\n",
    "                try:\n",
    "                    size = (160, 160)\n",
    "                    img_arr = cv2.imread(file)\n",
    "                    #convert to color array\n",
    "                    img_rgb = cv2.cvtColor(img_arr, cv2.COLOR_BGR2RGB)\n",
    "                    #reshape to uniform size 160x160x3\n",
    "                    new_array = cv2.resize(img_rgb, size)\n",
    "                    X.append(new_array)\n",
    "                    y.append(1)\n",
    "                except:\n",
    "                    print(f\"Invalid Path\")\n",
    "        else:\n",
    "            breed_name = breed.split('-')[-1]\n",
    "            for file in glob.glob(breed + '/*.jpg')[:150]: #limit to 150 per dog breed\n",
    "                file_name = os.path.basename(file)\n",
    "                # load file\n",
    "                try:\n",
    "                    size = (160, 160)\n",
    "                    img_arr = cv2.imread(file)\n",
    "                    #convert to color array\n",
    "                    img_rgb = cv2.cvtColor(img_arr, cv2.COLOR_BGR2RGB)\n",
    "                    #reshape to uniform size 160x160x3\n",
    "                    new_array = cv2.resize(img_rgb, size)\n",
    "                    X.append(new_array)\n",
    "                    y.append(0)\n",
    "                except:\n",
    "                    print(f\"Invalid Path\")"
   ]
  },
  {
   "cell_type": "code",
   "execution_count": 10,
   "metadata": {},
   "outputs": [
    {
     "data": {
      "text/plain": [
       "((33102, 160, 160, 3), (33102,))"
      ]
     },
     "execution_count": 10,
     "metadata": {},
     "output_type": "execute_result"
    }
   ],
   "source": [
    "X = np.array(X)\n",
    "y = np.array(y)\n",
    "\n",
    "X.shape, y.shape\n"
   ]
  },
  {
   "cell_type": "code",
   "execution_count": 11,
   "metadata": {},
   "outputs": [],
   "source": [
    "X = X.astype('float32')\n",
    "y = utils.to_categorical(y, 2)"
   ]
  },
  {
   "cell_type": "code",
   "execution_count": 12,
   "metadata": {},
   "outputs": [],
   "source": [
    "X_train, X_test, y_train, y_test = train_test_split(X, y, random_state = 9)"
   ]
  },
  {
   "cell_type": "markdown",
   "metadata": {},
   "source": [
    "#### 4.2 Convolutional Neural Net"
   ]
  },
  {
   "cell_type": "code",
   "execution_count": 13,
   "metadata": {},
   "outputs": [],
   "source": [
    "cnn = Sequential()\n",
    "# Starting Layer\n",
    "cnn.add(Conv2D(filters = 128,\n",
    "               kernel_size = (3, 3),\n",
    "               activation = 'relu',\n",
    "               input_shape = (160, 160, 3)))\n",
    "cnn.add(MaxPooling2D(pool_size = (2,2)))\n",
    "#second convolutional layer\n",
    "cnn.add(Conv2D(filters=64,            \n",
    "                     kernel_size=(3, 3),        \n",
    "                     activation='relu'))\n",
    "cnn.add(MaxPooling2D(pool_size=(2,2)))\n",
    "\n",
    "#third convolutional layer\n",
    "cnn.add(Conv2D(filters=128,            \n",
    "                     kernel_size=(3, 3),        \n",
    "                     activation='relu'))\n",
    "cnn.add(MaxPooling2D(pool_size=(2,2)))\n",
    "\n",
    "#fourth convolutional layer\n",
    "cnn.add(Conv2D(filters=32,            \n",
    "                     kernel_size=(3, 3),        \n",
    "                     activation='relu'))\n",
    "cnn.add(MaxPooling2D(pool_size=(2,2)))\n",
    "\n",
    "#fifth convolutional layer\n",
    "cnn.add(Conv2D(filters=32,            \n",
    "                     kernel_size=(3, 3),        \n",
    "                     activation='relu'))\n",
    "cnn.add(MaxPooling2D(pool_size=(2,2)))\n",
    "\n",
    "\n",
    "#flatten the metrics to fit into the Dense layers \n",
    "cnn.add(Flatten())\n",
    "cnn.add(Dense(32, activation = 'relu'))\n",
    "cnn.add(Dropout(0.3))\n",
    "cnn.add(Dense(256, activation = 'relu'))\n",
    "cnn.add(Dropout(0.3))\n",
    "cnn.add(Dense(128, activation = 'relu'))\n",
    "cnn.add(Dropout(0.3))\n",
    "cnn.add(Dense(64, activation = 'relu'))\n",
    "cnn.add(Dropout(0.3))\n",
    "cnn.add(Dense(32, activation = 'relu'))\n",
    "cnn.add(Dense(2, activation = 'sigmoid'))\n",
    "cnn.compile(loss = 'binary_crossentropy',\n",
    "             optimizer = 'adam',\n",
    "             metrics = ['accuracy'])\n",
    "early_stop = EarlyStopping(patience = 5, restore_best_weights = True)"
   ]
  },
  {
   "cell_type": "code",
   "execution_count": 14,
   "metadata": {},
   "outputs": [
    {
     "name": "stdout",
     "output_type": "stream",
     "text": [
      "Model: \"sequential\"\n",
      "_________________________________________________________________\n",
      "Layer (type)                 Output Shape              Param #   \n",
      "=================================================================\n",
      "conv2d (Conv2D)              (None, 158, 158, 128)     3584      \n",
      "_________________________________________________________________\n",
      "max_pooling2d (MaxPooling2D) (None, 79, 79, 128)       0         \n",
      "_________________________________________________________________\n",
      "conv2d_1 (Conv2D)            (None, 77, 77, 64)        73792     \n",
      "_________________________________________________________________\n",
      "max_pooling2d_1 (MaxPooling2 (None, 38, 38, 64)        0         \n",
      "_________________________________________________________________\n",
      "conv2d_2 (Conv2D)            (None, 36, 36, 128)       73856     \n",
      "_________________________________________________________________\n",
      "max_pooling2d_2 (MaxPooling2 (None, 18, 18, 128)       0         \n",
      "_________________________________________________________________\n",
      "conv2d_3 (Conv2D)            (None, 16, 16, 32)        36896     \n",
      "_________________________________________________________________\n",
      "max_pooling2d_3 (MaxPooling2 (None, 8, 8, 32)          0         \n",
      "_________________________________________________________________\n",
      "conv2d_4 (Conv2D)            (None, 6, 6, 32)          9248      \n",
      "_________________________________________________________________\n",
      "max_pooling2d_4 (MaxPooling2 (None, 3, 3, 32)          0         \n",
      "_________________________________________________________________\n",
      "flatten (Flatten)            (None, 288)               0         \n",
      "_________________________________________________________________\n",
      "dense (Dense)                (None, 32)                9248      \n",
      "_________________________________________________________________\n",
      "dropout (Dropout)            (None, 32)                0         \n",
      "_________________________________________________________________\n",
      "dense_1 (Dense)              (None, 256)               8448      \n",
      "_________________________________________________________________\n",
      "dropout_1 (Dropout)          (None, 256)               0         \n",
      "_________________________________________________________________\n",
      "dense_2 (Dense)              (None, 128)               32896     \n",
      "_________________________________________________________________\n",
      "dropout_2 (Dropout)          (None, 128)               0         \n",
      "_________________________________________________________________\n",
      "dense_3 (Dense)              (None, 64)                8256      \n",
      "_________________________________________________________________\n",
      "dropout_3 (Dropout)          (None, 64)                0         \n",
      "_________________________________________________________________\n",
      "dense_4 (Dense)              (None, 32)                2080      \n",
      "_________________________________________________________________\n",
      "dense_5 (Dense)              (None, 2)                 66        \n",
      "=================================================================\n",
      "Total params: 258,370\n",
      "Trainable params: 258,370\n",
      "Non-trainable params: 0\n",
      "_________________________________________________________________\n"
     ]
    }
   ],
   "source": [
    "cnn.summary()"
   ]
  },
  {
   "cell_type": "code",
   "execution_count": 15,
   "metadata": {},
   "outputs": [
    {
     "name": "stdout",
     "output_type": "stream",
     "text": [
      "Train on 24826 samples, validate on 8276 samples\n",
      "Epoch 1/30\n",
      "24826/24826 [==============================] - 873s 35ms/sample - loss: 0.6080 - accuracy: 0.6565 - val_loss: 0.3668 - val_accuracy: 0.8398\n",
      "Epoch 2/30\n",
      "24826/24826 [==============================] - 860s 35ms/sample - loss: 0.3168 - accuracy: 0.8696 - val_loss: 0.2458 - val_accuracy: 0.9134\n",
      "Epoch 3/30\n",
      "24826/24826 [==============================] - 828s 33ms/sample - loss: 0.2398 - accuracy: 0.9062 - val_loss: 0.2564 - val_accuracy: 0.9022\n",
      "Epoch 4/30\n",
      "24826/24826 [==============================] - 819s 33ms/sample - loss: 0.2094 - accuracy: 0.9200 - val_loss: 0.1944 - val_accuracy: 0.9286\n",
      "Epoch 5/30\n",
      "24826/24826 [==============================] - 853s 34ms/sample - loss: 0.2023 - accuracy: 0.9221 - val_loss: 0.1847 - val_accuracy: 0.9319\n",
      "Epoch 6/30\n",
      "24826/24826 [==============================] - 847s 34ms/sample - loss: 0.2002 - accuracy: 0.9229 - val_loss: 0.1766 - val_accuracy: 0.9368\n",
      "Epoch 7/30\n",
      "24826/24826 [==============================] - 2982s 120ms/sample - loss: 0.1848 - accuracy: 0.9293 - val_loss: 0.1781 - val_accuracy: 0.9391\n",
      "Epoch 8/30\n",
      "24826/24826 [==============================] - 860s 35ms/sample - loss: 0.1838 - accuracy: 0.9312 - val_loss: 0.2814 - val_accuracy: 0.8873\n",
      "Epoch 9/30\n",
      "24826/24826 [==============================] - 853s 34ms/sample - loss: 0.1671 - accuracy: 0.9381 - val_loss: 0.1943 - val_accuracy: 0.9312\n",
      "Epoch 10/30\n",
      "24826/24826 [==============================] - 2521s 102ms/sample - loss: 0.1718 - accuracy: 0.9347 - val_loss: 0.1865 - val_accuracy: 0.9338\n",
      "Epoch 11/30\n",
      "24826/24826 [==============================] - 816s 33ms/sample - loss: 0.1599 - accuracy: 0.9412 - val_loss: 0.1985 - val_accuracy: 0.9268\n"
     ]
    }
   ],
   "source": [
    "res = cnn.fit(X_train, y_train,\n",
    "             batch_size = 64,\n",
    "             validation_data = (X_test, y_test),\n",
    "             epochs = 30,\n",
    "             callbacks = [early_stop],\n",
    "             verbose = 1)"
   ]
  },
  {
   "cell_type": "code",
   "execution_count": 16,
   "metadata": {},
   "outputs": [
    {
     "data": {
      "image/png": "[encoded data removed]",
      "text/plain": [
       "<Figure size 864x576 with 1 Axes>"
      ]
     },
     "metadata": {
      "needs_background": "light"
     },
     "output_type": "display_data"
    }
   ],
   "source": [
    "qp.plot_loss(res, 'Loss by Epoch')\n",
    "plt.savefig('./imgs/lossXepoch.jpg');"
   ]
  },
  {
   "cell_type": "code",
   "execution_count": 17,
   "metadata": {},
   "outputs": [
    {
     "data": {
      "image/png": "[encoded data removed]",
      "text/plain": [
       "<Figure size 864x576 with 1 Axes>"
      ]
     },
     "metadata": {
      "needs_background": "light"
     },
     "output_type": "display_data"
    }
   ],
   "source": [
    "qp.plot_accuracy(res, 'Accuracy by Epoch')\n",
    "plt.savefig('./imgs/accXepoch.jpg');"
   ]
  },
  {
   "cell_type": "code",
   "execution_count": 18,
   "metadata": {},
   "outputs": [
    {
     "name": "stdout",
     "output_type": "stream",
     "text": [
      "WARNING:tensorflow:From /opt/anaconda3/envs/dsi/lib/python3.7/site-packages/tensorflow_core/python/ops/resource_variable_ops.py:1781: calling BaseResourceVariable.__init__ (from tensorflow.python.ops.resource_variable_ops) with constraint is deprecated and will be removed in a future version.\n",
      "Instructions for updating:\n",
      "If using Keras pass *_constraint arguments to layers.\n",
      "INFO:tensorflow:Assets written to: ./model/assets\n"
     ]
    }
   ],
   "source": [
    "cnn.save('./model')"
   ]
  },
  {
   "cell_type": "code",
   "execution_count": 21,
   "metadata": {},
   "outputs": [],
   "source": [
    "cnn2 = load_model('./model')"
   ]
  },
  {
   "cell_type": "markdown",
   "metadata": {},
   "source": []
  },
  {
   "cell_type": "markdown",
   "metadata": {},
   "source": []
  }
 ],
 "metadata": {
  "kernelspec": {
   "display_name": "Python 3.7.7 64-bit (conda)",
   "language": "python",
   "name": "python37764bitconda77dc9d652bc147c6a9d0ea8af6b5ba0e"
  },
  "language_info": {
   "codemirror_mode": {
    "name": "ipython",
    "version": 3
   },
   "file_extension": ".py",
   "mimetype": "text/x-python",
   "name": "python",
   "nbconvert_exporter": "python",
   "pygments_lexer": "ipython3",
   "version": "3.7.10"
  }
 },
 "nbformat": 4,
 "nbformat_minor": 4
}